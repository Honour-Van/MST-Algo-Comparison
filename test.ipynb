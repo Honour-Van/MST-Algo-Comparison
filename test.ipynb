{
 "metadata": {
  "language_info": {
   "codemirror_mode": {
    "name": "ipython",
    "version": 3
   },
   "file_extension": ".py",
   "mimetype": "text/x-python",
   "name": "python",
   "nbconvert_exporter": "python",
   "pygments_lexer": "ipython3",
   "version": "3.9.5"
  },
  "orig_nbformat": 2,
  "kernelspec": {
   "name": "python395jvsc74a57bd0bd4c67ef142469da7dc4d338a32ac40116904d26076b8e6aa587d80720bc6a2b",
   "display_name": "Python 3.9.5 64-bit"
  },
  "metadata": {
   "interpreter": {
    "hash": "bd4c67ef142469da7dc4d338a32ac40116904d26076b8e6aa587d80720bc6a2b"
   }
  }
 },
 "nbformat": 4,
 "nbformat_minor": 2,
 "cells": [
  {
   "cell_type": "code",
   "execution_count": 4,
   "metadata": {
    "tags": []
   },
   "outputs": [
    {
     "output_type": "execute_result",
     "data": {
      "text/plain": [
       "'d:\\\\MST\\\\稠密度.html'"
      ]
     },
     "metadata": {},
     "execution_count": 4
    }
   ],
   "source": [
    "# 准备平均情况下稠密度影响因素的绘制数据\n",
    "from pyecharts.charts import Bar, Page, Line\n",
    "from pyecharts import options as opts\n",
    "\n",
    "nodes = [2000, 5000, 10000]\n",
    "modes = [\"equalEdge\", \"permutationEdge\", \"randomEdge\"]\n",
    "\n",
    "list1 = []\n",
    "list2 = []\n",
    "cnt = 0\n",
    "upline = 201\n",
    "for i in nodes:\n",
    "    for mode in modes:\n",
    "        list1.append([])\n",
    "        list2.append([])\n",
    "        upline = 101\n",
    "        for j in range(0,upline,2):\n",
    "            with open(f\"./density/kruskal_{str(i)}_{mode}.txt_{str(j)}.txt\", 'r', encoding='utf-8') as f:\n",
    "                list1[cnt].append(float(f.read()))\n",
    "            with open(f\"./density/prim_{str(i)}_{mode}.txt_{str(j)}.txt\", 'r', encoding='utf-8') as f:\n",
    "                list2[cnt].append(float(f.read()))\n",
    "        with open(f\"./out/kruskal_{str(i)}_{mode}.txt\", 'w', encoding='utf-8') as f:\n",
    "            for item in list1[cnt]:\n",
    "                print(item, file=f)\n",
    "        with open(f\"./out/prim_{str(i)}_{mode}.txt\", 'w', encoding='utf-8') as f:\n",
    "            for item in list1[cnt]:\n",
    "                print(item, file=f)\n",
    "        cnt += 1\n",
    "\n",
    "# 绘制平均情况下稠密度影响因素的对比图\n",
    "page = Page(page_title=\"最小生成树算法对比\",\n",
    "            layout=Page.SimplePageLayout)\n",
    "\n",
    "cnt = 0\n",
    "for i in nodes:\n",
    "    xaxis = [j for j in range(0,201,2)]\n",
    "    for mode in modes:\n",
    "        if i == 20000 and mode == 'randomEdge':\n",
    "            xaxis = [j for j in range(0,101,2)]\n",
    "        line = Line().add_xaxis(xaxis)\n",
    "        line.add_yaxis(f\"kruskal {mode}\", list1[cnt])\n",
    "        line.add_yaxis(f\"prim {mode}\", list2[cnt])\n",
    "        cnt += 1\n",
    "        line.set_global_opts(\n",
    "            title_opts=opts.TitleOpts(\n",
    "                title=\"最小生成树算法对比\", subtitle=f\"规模为{str(i)}-{mode}\"),\n",
    "            # tooltip_opts=opts.TooltipOpts(trigger=\"axis\"),\n",
    "            # toolbox_opts=opts.ToolboxOpts(is_show=True),\n",
    "        )\n",
    "        line.set_series_opts(label_opts=opts.LabelOpts(is_show=False))\n",
    "        line.render(f\"./out/{str(i)}-{mode}.html\")\n",
    "        page.add(line)\n",
    "page.render(\"稠密度.html\")\n",
    "\n"
   ]
  },
  {
   "cell_type": "code",
   "execution_count": 5,
   "metadata": {
    "tags": []
   },
   "outputs": [],
   "source": [
    "# 准备星状图稠密度影响因素的绘制数据\n",
    "list1 = []\n",
    "list2 = []\n",
    "list3 = []\n",
    "list4 = []\n",
    "cnt = 0\n",
    "nodes = [2000,5000,10000]\n",
    "modes = [\"equalEdge\", \"permutationEdge\", \"randomEdge\"]\n",
    "for i in nodes:\n",
    "    for mode in modes:\n",
    "        upline = 51 if i == 10000 and mode == 'randomEdge' else 101\n",
    "        list1.append([])\n",
    "        list2.append([])\n",
    "        for j in range(0,upline,2):\n",
    "            with open(f\"./recordData_pernode/kruskal_{str(i)}_{mode}.txt_{str(j)}.txt\", 'r', encoding='utf-8') as f:\n",
    "                list1[cnt].append(float(f.read()))\n",
    "            with open(f\"./recordData_pernode/prim_{str(i)}_{mode}.txt_{str(j)}.txt\", 'r', encoding='utf-8') as f:\n",
    "                list2[cnt].append(float(f.read()))\n",
    "        cnt += 1\n",
    "cnt = 0\n",
    "for i in nodes:\n",
    "    for mode in modes:\n",
    "        upline = 101 if i == 10000 and mode == 'randomEdge' else 201\n",
    "        list3.append([])\n",
    "        list4.append([])\n",
    "        for j in range(0,upline,4):\n",
    "            with open(f\"./density/kruskal_{str(i)}_{mode}.txt_{str(j)}.txt\", 'r', encoding='utf-8') as f:\n",
    "                list3[cnt].append(float(f.read()))\n",
    "            with open(f\"./density/prim_{str(i)}_{mode}.txt_{str(j)}.txt\", 'r', encoding='utf-8') as f:\n",
    "                list4[cnt].append(float(f.read()))\n",
    "        cnt += 1\n",
    "# print(list1, list2)"
   ]
  },
  {
   "cell_type": "code",
   "execution_count": 6,
   "metadata": {},
   "outputs": [
    {
     "output_type": "execute_result",
     "data": {
      "text/plain": [
       "'d:\\\\MST\\\\星状图bd.html'"
      ]
     },
     "metadata": {},
     "execution_count": 6
    }
   ],
   "source": [
    "# 绘制星状图中稠密度影响的对比图\n",
    "from pyecharts import options as opts\n",
    "from pyecharts.charts import Line, Page\n",
    "page = Page(page_title = \"星状图最小生成树\",\n",
    "        layout=Page.SimplePageLayout)\n",
    "\n",
    "cnt = 0\n",
    "for i in nodes:\n",
    "    for mode in modes:\n",
    "        upline = 101 if i == 10000 and mode == 'randomEdge' else 201\n",
    "        xaxis = [j for j in range(0,upline,2)]\n",
    "        line = Line().add_xaxis(xaxis)\n",
    "        line.add_yaxis(f\"kruskal {mode}-星状图\", list1[cnt])\n",
    "        line.add_yaxis(f\"kruskal {mode}\", list3[cnt])\n",
    "        line.add_yaxis(f\"prim {mode}-星状图\", list2[cnt])\n",
    "        line.add_yaxis(f\"prim {mode}\", list4[cnt])\n",
    "        cnt += 1\n",
    "        line.set_global_opts(\n",
    "            title_opts=opts.TitleOpts(title=\"最小生成树算法对比\", subtitle=f\"星状图-规模为{str(i)}-{mode}\"),           \n",
    "            # tooltip_opts=opts.TooltipOpts(trigger=\"axis\"),\n",
    "            # toolbox_opts=opts.ToolboxOpts(is_show=True),\n",
    "        )\n",
    "        line.set_series_opts(label_opts=opts.LabelOpts(is_show=False))\n",
    "        line.render(f\"./out/pn_{str(i)}-{mode}.html\")\n",
    "        page.add(line)\n",
    "page.render(\"星状图bd.html\")"
   ]
  },
  {
   "cell_type": "code",
   "execution_count": 50,
   "metadata": {},
   "outputs": [
    {
     "output_type": "stream",
     "name": "stdout",
     "text": [
      "[[1.616478e-05, 2.77996e-05, 6.937981e-05, 6.461143e-05, 0.0001183272, 0.0001452923, 0.0001683474, 0.0002066135, 0.0002542734, 0.0002865076, 0.0002422333, 0.0003135204, 0.0003932237, 0.0004209042, 0.0004901886, 0.0002754211, 0.0004877329, 0.0004033804, 0.0005800009, 0.0005421638], [1.618862e-05, 6.489754e-05, 7.498264e-05, 0.0001555205, 0.0001641989, 0.0001917839, 0.000277257, 0.0003363848, 0.0002227068, 0.0003725529, 0.0004194975, 0.0005709887, 0.0005435228, 0.0004511833, 0.0003681898, 0.0007153988, 0.0007442474, 0.000884366, 0.0005028009, 0.0005527735], [2.15292e-05, 6.23703e-05, 0.000107193, 0.0001062393, 0.0001446962, 0.0001429319, 0.0002597094, 0.0003293991, 0.0002521753, 0.0004028559, 0.0003661871, 0.000284648, 0.0004590273, 0.0005950928, 0.0004469156, 0.0007903099, 0.0005841971, 0.00086205, 0.0005051852, 0.0006273985], [0.0006156921, 0.002180314, 0.004599667, 0.003889203, 0.00707283, 0.01128418, 0.007513833, 0.01103902, 0.01084197, 0.0136395, 0.01999295, 0.01780796, 0.02171183, 0.02208843, 0.03154702, 0.02182293, 0.03199742, 0.02528035, 0.02367618, 0.03352888], [0.0008310318, 0.00264163, 0.00711484, 0.006289387, 0.007074308, 0.01237507, 0.01197574, 0.01620312, 0.02475872, 0.01938705, 0.02383671, 0.027176, 0.03770869, 0.03026052, 0.02860673, 0.04755924, 0.04511433, 0.03510287, 0.04399893, 0.04762702], [0.0018574, 0.00387373, 0.005864429, 0.007903408, 0.008476567, 0.01311479, 0.01598789, 0.02267525, 0.0172621, 0.02285483, 0.01991012, 0.03437443, 0.02990053, 0.02924833, 0.03722136, 0.04115496, 0.0364527, 0.04700122, 0.03567419, 0.04083674]] [[4.336834e-05, 0.0001738787, 0.0005462646, 0.0006922961, 0.001407147, 0.001995301, 0.00167582, 0.003582334, 0.003046632, 0.00577569, 0.006295061, 0.007911992, 0.00795703, 0.009914779, 0.01042035, 0.01105862, 0.01138735, 0.01564, 0.01542277, 0.01898322], [4.668236e-05, 0.0003418684, 0.0009018659, 0.001718783, 0.002562523, 0.003275991, 0.004968667, 0.005637979, 0.005213618, 0.00989399, 0.01179779, 0.01335862, 0.01730666, 0.0162133, 0.01928198, 0.02049444, 0.02404592, 0.03136592, 0.03075302, 0.03750372], [5.669594e-05, 0.0001772404, 0.0008443117, 0.001189756, 0.00197742, 0.001871681, 0.004877377, 0.006024671, 0.006770015, 0.008863116, 0.0103678, 0.01298702, 0.01444092, 0.01815307, 0.0189785, 0.02394724, 0.02252998, 0.03263302, 0.02502971, 0.03847387], [0.0001072645, 0.0003412247, 0.000739336, 0.0009326935, 0.001464224, 0.0015594, 0.001999545, 0.003072, 0.004630017, 0.006326485, 0.006607127, 0.005964517, 0.008383013, 0.009678269, 0.01172147, 0.008930993, 0.01354899, 0.01355879, 0.01482229, 0.01752262], [0.0001284361, 0.0004588127, 0.001526403, 0.001680779, 0.001997566, 0.002916813, 0.003865504, 0.007226086, 0.00754304, 0.0085855, 0.01012704, 0.01391923, 0.01627183, 0.01944306, 0.01699138, 0.01686573, 0.02261267, 0.02434618, 0.02803791, 0.03411501], [0.0001491785, 0.000818634, 0.001043367, 0.001507521, 0.002419114, 0.004556632, 0.004246282, 0.007110596, 0.005778337, 0.009139204, 0.008322859, 0.01323161, 0.01700323, 0.02112439, 0.02052305, 0.02040336, 0.02147658, 0.02483306, 0.03517241, 0.02574072]]\n"
     ]
    }
   ],
   "source": [
    "# 准备不同稠密程度下节点数量影响的绘制数据\n",
    "\n",
    "list1 = []\n",
    "list2 = []\n",
    "cnt = 0\n",
    "for j in [0, 64]:\n",
    "    for mode in [\"equalEdge\", \"permutationEdge\", \"randomEdge\"]:\n",
    "        list1.append([])\n",
    "        list2.append([])\n",
    "        for i in range(100, 2100, 100):\n",
    "            with open(f\"./recordData_bynode/kruskal_{str(i)}_{mode}.txt_{str(j)}.txt\", 'r', encoding='utf-8') as f:\n",
    "                list1[cnt].append(float(f.read()))\n",
    "            with open(f\"./recordData_bynode/prim_{str(i)}_{mode}.txt_{str(j)}.txt\", 'r', encoding='utf-8') as f:\n",
    "                list2[cnt].append(float(f.read()))\n",
    "        with open(f\"./out/bn_kruskal_{mode}_{str(j)}.txt\", 'w', encoding='utf-8') as f:\n",
    "            for item in list1[cnt]:\n",
    "                print(item, file=f)\n",
    "        with open(f\"./out/bn_prim_{mode}_{str(j)}.txt\", 'w', encoding='utf-8') as f:\n",
    "            for item in list1[cnt]:\n",
    "                print(item, file=f)\n",
    "        cnt += 1\n",
    "print(list1, list2)"
   ]
  },
  {
   "cell_type": "code",
   "execution_count": 51,
   "metadata": {},
   "outputs": [
    {
     "output_type": "execute_result",
     "data": {
      "text/plain": [
       "'d:\\\\MST\\\\节点数.html'"
      ]
     },
     "metadata": {},
     "execution_count": 51
    }
   ],
   "source": [
    "# 绘制不同稠密程度下节点数量的影响\n",
    "\n",
    "from pyecharts import options as opts\n",
    "from pyecharts.charts import Bar, Page\n",
    "page = Page(page_title = \"最小生成树算法对比_bynode\",\n",
    "        layout=Page.SimplePageLayout)\n",
    "\n",
    "cnt = 0\n",
    "xaxis = [j for j in range(100, 2100, 100)]\n",
    "for i in [0, 64]:\n",
    "    bar = Bar().add_xaxis(xaxis)\n",
    "    for mode in [\"equalEdge\", \"permutationEdge\", \"randomEdge\"]:\n",
    "        bar.add_yaxis(f\"kruskal {mode}\", list1[cnt])\n",
    "        bar.add_yaxis(f\"prim {mode}\", list2[cnt])\n",
    "        cnt += 1\n",
    "        bar.set_global_opts(\n",
    "            title_opts=opts.TitleOpts(title=\"最小生成树算法对比\", subtitle=f\"度数为{str(i)}\"),\n",
    "            tooltip_opts=opts.TooltipOpts(trigger=\"axis\"),\n",
    "            toolbox_opts=opts.ToolboxOpts(is_show=True),\n",
    "            legend_opts=opts.LegendOpts(pos_top='bottom')\n",
    "        )\n",
    "        bar.set_series_opts(label_opts=opts.LabelOpts(is_show=False))\n",
    "        # bar.render(f\"./out/bn_{str(i)}-{mode}.html\")\n",
    "    bar.render(f\"./out/bn_{str(j)}.html\")\n",
    "    page.add(bar)\n",
    "page.render(\"节点数.html\")"
   ]
  },
  {
   "cell_type": "code",
   "execution_count": null,
   "metadata": {},
   "outputs": [],
   "source": []
  }
 ]
}